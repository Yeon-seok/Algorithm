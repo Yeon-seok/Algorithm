{
 "cells": [
  {
   "cell_type": "code",
   "execution_count": 1,
   "metadata": {},
   "outputs": [],
   "source": [
    "n, m, k = map(int, input().split())\n",
    "list = list(map(int,input().split()))"
   ]
  },
  {
   "cell_type": "code",
   "execution_count": null,
   "metadata": {},
   "outputs": [],
   "source": [
    "#처음 생각한 풀이 \n",
    "list.sort()\n",
    "result = 0\n",
    "repeat = 1\n",
    "for i in range(m) :\n",
    "    if repeat != k :\n",
    "        result += list[-1]\n",
    "        repeat += 1\n",
    "    else :\n",
    "        result += list[-2]\n",
    "        repeat = 0  \n",
    "result"
   ]
  },
  {
   "cell_type": "code",
   "execution_count": 2,
   "metadata": {},
   "outputs": [],
   "source": [
    "#시간복잡도가 낮은 풀이\n",
    "list.sort()\n",
    "sum = list[-1] * k + list[-2]\n",
    "product = m // (k + 1)\n",
    "remainder = m % (k + 1)\n",
    "result = int(sum * product + list[-1] * remainder)\n",
    "result"
   ]
  }
 ],
 "metadata": {
  "interpreter": {
   "hash": "2dd35921507a77575795ea2529ce8cdc906dbda9c350dd129fa61efdcd9bd4a2"
  },
  "kernelspec": {
   "display_name": "algorithm",
   "language": "python",
   "name": "python3"
  },
  "language_info": {
   "codemirror_mode": {
    "name": "ipython",
    "version": 3
   },
   "file_extension": ".py",
   "mimetype": "text/x-python",
   "name": "python",
   "nbconvert_exporter": "python",
   "pygments_lexer": "ipython3",
   "version": "3.10.0"
  },
  "orig_nbformat": 4
 },
 "nbformat": 4,
 "nbformat_minor": 2
}
